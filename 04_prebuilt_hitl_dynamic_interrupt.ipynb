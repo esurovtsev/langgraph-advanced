{
 "cells": [
  {
   "cell_type": "markdown",
   "id": "de401d54",
   "metadata": {},
   "source": [
    "# Prebuilt ReAct Agent - Human-In-The-Loop\n",
    "\n",
    "![HITL Trade Execution](images/hitl_trade_execution.png)"
   ]
  },
  {
   "cell_type": "code",
   "execution_count": null,
   "id": "63f890aa",
   "metadata": {},
   "outputs": [],
   "source": [
    "import requests\n",
    "import yfinance as yf\n",
    "from pprint import pformat\n",
    "from langchain_core.tools import tool\n",
    "from langgraph.prebuilt import create_react_agent\n",
    "from langchain_openai import ChatOpenAI\n",
    "from IPython.display import Image, display\n",
    "\n",
    "@tool(\"lookup_stock\")\n",
    "def lookup_stock_symbol(company_name: str) -> str:\n",
    "    \"\"\"\n",
    "    Converts a company name to its stock symbol using a financial API.\n",
    "\n",
    "    Parameters:\n",
    "        company_name (str): The full company name (e.g., 'Tesla').\n",
    "\n",
    "    Returns:\n",
    "        str: The stock symbol (e.g., 'TSLA') or an error message.\n",
    "    \"\"\"\n",
    "    api_url = \"https://www.alphavantage.co/query\"\n",
    "    params = {\n",
    "        \"function\": \"SYMBOL_SEARCH\",\n",
    "        \"keywords\": company_name,\n",
    "        \"apikey\": \"your_alphavantage_api_key\"\n",
    "    }\n",
    "    \n",
    "    response = requests.get(api_url, params=params)\n",
    "    data = response.json()\n",
    "    \n",
    "    if \"bestMatches\" in data and data[\"bestMatches\"]:\n",
    "        return data[\"bestMatches\"][0][\"1. symbol\"]\n",
    "    else:\n",
    "        return f\"Symbol not found for {company_name}.\"\n",
    "\n",
    "\n",
    "@tool(\"fetch_stock_data\")\n",
    "def fetch_stock_data_raw(stock_symbol: str) -> dict:\n",
    "    \"\"\"\n",
    "    Fetches comprehensive stock data for a given symbol and returns it as a combined dictionary.\n",
    "\n",
    "    Parameters:\n",
    "        stock_symbol (str): The stock ticker symbol (e.g., 'TSLA').\n",
    "        period (str): The period to analyze (e.g., '1mo', '3mo', '1y').\n",
    "\n",
    "    Returns:\n",
    "        dict: A dictionary combining general stock info and historical market data.\n",
    "    \"\"\"\n",
    "    period = \"1mo\"\n",
    "    try:\n",
    "        stock = yf.Ticker(stock_symbol)\n",
    "\n",
    "        # Retrieve general stock info and historical market data\n",
    "        stock_info = stock.info  # Basic company and stock data\n",
    "        stock_history = stock.history(period=period).to_dict()  # Historical OHLCV data\n",
    "\n",
    "        # Combine both into a single dictionary\n",
    "        combined_data = {\n",
    "            \"stock_symbol\": stock_symbol,\n",
    "            \"info\": stock_info,\n",
    "            \"history\": stock_history\n",
    "        }\n",
    "\n",
    "        return pformat(combined_data)\n",
    "\n",
    "    except Exception as e:\n",
    "        return {\"error\": f\"Error fetching stock data for {stock_symbol}: {str(e)}\"}\n",
    "\n",
    "system_message = \"\"\"\n",
    "You are a financial advisor assistant. Use the provided tools to ground your answers\n",
    "in up-to-date market data. Be concise, factual, and risk-aware.\n",
    "\n",
    "Be decisive: when you have sufficient information to act, proceed with tool calls without\n",
    "asking for confirmation. Only if information is missing or uncertain, ask a concise \n",
    "clarifying question.\n",
    "\n",
    "When preparing or describing actions, include appropriate parameters (e.g., symbol, shares,\n",
    "limit price, budgets) based on available data. Do not fabricate numbers or facts.\n",
    "\"\"\"\n",
    "\n",
    "@tool\n",
    "def place_order(\n",
    "    symbol: str,\n",
    "    action: str,\n",
    "    shares: int,\n",
    "    limit_price: float,\n",
    "    order_type: str = \"limit\",\n",
    ") -> dict:\n",
    "    \"\"\"\n",
    "    Execute a stock order.\n",
    "\n",
    "    Parameters:\n",
    "    - symbol: Ticker\n",
    "    - action: \"buy\" or \"sell\"\n",
    "    - shares: Number of shares to trade (pre-computed by the agent)\n",
    "    - limit_price: Limit price per share\n",
    "    - order_type: Order type, default \"limit\"\n",
    "\n",
    "    Returns:\n",
    "    - status: Execution result (simulated)\n",
    "    - symbol\n",
    "    - shares\n",
    "    - limit_price\n",
    "    - total_spent\n",
    "    - type: Order type used\n",
    "    - action\n",
    "    \"\"\"\n",
    "    total_spent = round(int(shares) * limit_price, 2)\n",
    "    return {\n",
    "        \"status\": \"filled\",\n",
    "        \"symbol\": symbol,\n",
    "        \"shares\": int(shares),\n",
    "        \"limit_price\": limit_price,\n",
    "        \"total_spent\": total_spent,\n",
    "        \"type\": order_type,\n",
    "        \"action\": action,\n",
    "    }\n",
    "\n",
    "agent = create_react_agent(\n",
    "    model=ChatOpenAI(model=\"gpt-4o-mini\"),\n",
    "    tools=[lookup_stock_symbol, fetch_stock_data_raw, place_order],\n",
    "    prompt=system_message\n",
    ")\n",
    "\n",
    "display(Image(agent.get_graph().draw_mermaid_png()))"
   ]
  },
  {
   "cell_type": "markdown",
   "id": "4823e773",
   "metadata": {},
   "source": [
    "## HITL with a Static Pause\n",
    "\n",
    "`interrupt_before` / `interrupt_after` (compile‑time, always stop at those nodes)"
   ]
  },
  {
   "cell_type": "code",
   "execution_count": null,
   "id": "8b51207b",
   "metadata": {},
   "outputs": [],
   "source": [
    "agent = create_react_agent(\n",
    "    model=ChatOpenAI(model=\"gpt-4o-mini\"),\n",
    "    tools=[lookup_stock_symbol, fetch_stock_data_raw, place_order],\n",
    "    prompt=system_message,\n",
    "\n",
    "    interrupt_before=[\"tools\"]\n",
    ")\n",
    "\n",
    "display(Image(agent.get_graph().draw_mermaid_png()))"
   ]
  },
  {
   "cell_type": "markdown",
   "id": "3908d80e",
   "metadata": {},
   "source": [
    "## HITL with a Dynamic Pause\n",
    "\n",
    "1. Use `interrupt()` to raise a `NodeInterrupt` when a condition is met. The most natural place to decide that in a prebuilt agent is `post_model_hook`, because it runs right after the LLM proposes the next action (including tool calls) but before tools execute. \n",
    "\n",
    "2. Resume the paused run by supplying the human decision via `Command(resume=...)`, with a checkpointer enabled to persist and resume state."
   ]
  },
  {
   "cell_type": "markdown",
   "id": "44a9829b",
   "metadata": {},
   "source": [
    "### Interruption on risky tools"
   ]
  },
  {
   "cell_type": "code",
   "execution_count": null,
   "id": "76f9b350",
   "metadata": {},
   "outputs": [],
   "source": [
    "from langgraph.checkpoint.memory import InMemorySaver\n",
    "from langgraph.prebuilt import create_react_agent\n",
    "from langchain_openai import ChatOpenAI\n",
    "from IPython.display import Image, display\n",
    "from langchain_core.messages import HumanMessage, AIMessage, ToolMessage\n",
    "from langgraph.types import interrupt\n",
    "\n",
    "RISKY_TOOLS = {\"place_order\"}\n",
    "\n",
    "def halt_on_risky_tools(state):\n",
    "    last = state[\"messages\"][-1]\n",
    "    if isinstance(last, AIMessage) and getattr(last, \"tool_calls\", None):\n",
    "        for tc in last.tool_calls:\n",
    "            if tc.get(\"name\") in RISKY_TOOLS:\n",
    "                _ = interrupt({\"awaiting\": tc[\"name\"], \"args\": tc.get(\"args\", {})})\n",
    "\n",
    "    return {}\n",
    "\n",
    "agent = create_react_agent(\n",
    "    model=ChatOpenAI(model=\"gpt-4o-mini\"),\n",
    "    tools=[lookup_stock_symbol, fetch_stock_data_raw, place_order],\n",
    "    prompt=system_message,\n",
    "    checkpointer=InMemorySaver(),\n",
    "\n",
    "    version=\"v2\",\n",
    "    post_model_hook=halt_on_risky_tools\n",
    ")\n",
    "\n",
    "display(Image(agent.get_graph().draw_mermaid_png()))"
   ]
  },
  {
   "cell_type": "code",
   "execution_count": null,
   "id": "65ea9f28",
   "metadata": {},
   "outputs": [],
   "source": [
    "config = {\"configurable\": {\"thread_id\": \"1\"}}\n",
    "\n",
    "response = agent.invoke({\"messages\": [HumanMessage(content=\"Buy $1000 of Tesla stock at the current price.\")]}, config)\n",
    "for message in response['messages']:\n",
    "    message.pretty_print()"
   ]
  },
  {
   "cell_type": "code",
   "execution_count": null,
   "id": "2629678e",
   "metadata": {},
   "outputs": [],
   "source": [
    "state = agent.get_state(config)\n",
    "state.next"
   ]
  },
  {
   "cell_type": "code",
   "execution_count": null,
   "id": "f40b7d7e",
   "metadata": {},
   "outputs": [],
   "source": [
    "\"__interrupt__\" in response"
   ]
  },
  {
   "cell_type": "code",
   "execution_count": null,
   "id": "bc042e6d",
   "metadata": {},
   "outputs": [],
   "source": [
    "interrupts = response[\"__interrupt__\"]\n",
    "for intr in interrupts:\n",
    "    print(\"Interrupted:\", intr.id, intr.value)"
   ]
  },
  {
   "cell_type": "code",
   "execution_count": null,
   "id": "46812672",
   "metadata": {},
   "outputs": [],
   "source": [
    "def print_tool_approval(payload):\n",
    "    tool = payload.get(\"awaiting\", \"unknown_tool\")\n",
    "    args = payload.get(\"args\", {})\n",
    "\n",
    "    print(\"—-- Approval needed —--\")\n",
    "    print(f\"Tool: {tool}\")\n",
    "\n",
    "    if isinstance(args, dict) and args:\n",
    "        print(\"Parameters:\")\n",
    "        for k, v in args.items():\n",
    "            print(f\"  - {k}: {v}\")\n",
    "    elif args:\n",
    "        print(f\"Parameters: {args}\")\n",
    "    else:\n",
    "        print(\"No parameters.\")\n",
    "\n",
    "print_tool_approval(interrupts[0].value)"
   ]
  },
  {
   "cell_type": "markdown",
   "id": "af3f1d96",
   "metadata": {},
   "source": [
    "### Resuming the graph"
   ]
  },
  {
   "cell_type": "code",
   "execution_count": null,
   "id": "a8190653",
   "metadata": {},
   "outputs": [],
   "source": [
    "from langgraph.types import Command\n",
    "\n",
    "response = agent.invoke(Command(resume={\"approved\": True}), config=config)\n",
    "for message in response['messages']:\n",
    "    message.pretty_print()"
   ]
  },
  {
   "cell_type": "markdown",
   "id": "1737f6a7",
   "metadata": {},
   "source": [
    "### Approving or Declining Risky Tools"
   ]
  },
  {
   "cell_type": "code",
   "execution_count": null,
   "id": "1d5134ca",
   "metadata": {},
   "outputs": [],
   "source": [
    "def halt_on_risky_tools(state):\n",
    "    last = state[\"messages\"][-1]\n",
    "    if isinstance(last, AIMessage) and getattr(last, \"tool_calls\", None):\n",
    "        for tc in last.tool_calls:\n",
    "            if tc.get(\"name\") in RISKY_TOOLS:\n",
    "                decision = interrupt({\"awaiting\": tc[\"name\"], \"args\": tc.get(\"args\", {})})\n",
    "\n",
    "                # tool approved\n",
    "                if isinstance(decision, dict) and decision.get(\"approved\"):\n",
    "                    return {}\n",
    "\n",
    "                # tool rejected\n",
    "                tool_msg = ToolMessage(\n",
    "                    content=f\"Cancelled by human. Continue without executing that tool and provide next steps.\",\n",
    "                    tool_call_id=tc[\"id\"],\n",
    "                    name=tc[\"name\"]\n",
    "                )\n",
    "                return {\"messages\": [tool_msg]}\n",
    "\n",
    "    return {}\n",
    "\n",
    "\n",
    "agent = create_react_agent(\n",
    "    model=ChatOpenAI(model=\"gpt-4o-mini\"),\n",
    "    tools=[lookup_stock_symbol, fetch_stock_data_raw, place_order],\n",
    "    prompt=system_message,\n",
    "    checkpointer=InMemorySaver(),\n",
    "\n",
    "    version=\"v2\",\n",
    "    post_model_hook=halt_on_risky_tools\n",
    ")\n",
    "\n",
    "display(Image(agent.get_graph().draw_mermaid_png()))"
   ]
  },
  {
   "cell_type": "markdown",
   "id": "9b1c4d70",
   "metadata": {},
   "source": [
    "### Testing Approval"
   ]
  },
  {
   "cell_type": "code",
   "execution_count": null,
   "id": "ed4208e7",
   "metadata": {},
   "outputs": [],
   "source": [
    "config = {\"configurable\": {\"thread_id\": \"1\"}}\n",
    "\n",
    "response = agent.invoke({\"messages\": [HumanMessage(content=\"Buy $1000 of Tesla stock at the current price.\")]}, config)\n",
    "for message in response['messages']:\n",
    "    message.pretty_print()"
   ]
  },
  {
   "cell_type": "code",
   "execution_count": null,
   "id": "7bc318e6",
   "metadata": {},
   "outputs": [],
   "source": [
    "interrupts = response[\"__interrupt__\"]\n",
    "print_tool_approval(interrupts[0].value)"
   ]
  },
  {
   "cell_type": "code",
   "execution_count": null,
   "id": "47da03e5",
   "metadata": {},
   "outputs": [],
   "source": [
    "from langgraph.types import Command\n",
    "\n",
    "response = agent.invoke(Command(resume={\"approved\": True}), config=config)\n",
    "for message in response['messages']:\n",
    "    message.pretty_print()"
   ]
  },
  {
   "cell_type": "code",
   "execution_count": null,
   "id": "abd68bd4",
   "metadata": {},
   "outputs": [],
   "source": [
    "\"__interrupt__\" in response"
   ]
  },
  {
   "cell_type": "markdown",
   "id": "ccf8eaf4",
   "metadata": {},
   "source": [
    "### Testing Canceling"
   ]
  },
  {
   "cell_type": "code",
   "execution_count": null,
   "id": "d130ce19",
   "metadata": {},
   "outputs": [],
   "source": [
    "config = {\"configurable\": {\"thread_id\": \"2\"}}\n",
    "\n",
    "response = agent.invoke({\"messages\": [HumanMessage(content=\"Buy $1000 of nvidia stock at the current price.\")]}, config)\n",
    "for message in response['messages']:\n",
    "    message.pretty_print()"
   ]
  },
  {
   "cell_type": "code",
   "execution_count": null,
   "id": "5d96ddc7",
   "metadata": {},
   "outputs": [],
   "source": [
    "interrupts = response[\"__interrupt__\"]\n",
    "print_tool_approval(interrupts[0].value)"
   ]
  },
  {
   "cell_type": "code",
   "execution_count": null,
   "id": "8624be2e",
   "metadata": {},
   "outputs": [],
   "source": [
    "response = agent.invoke(Command(resume={\"approved\": False}), config=config)\n",
    "for message in response['messages']:\n",
    "    message.pretty_print()"
   ]
  },
  {
   "cell_type": "code",
   "execution_count": null,
   "id": "ce99c41c",
   "metadata": {},
   "outputs": [],
   "source": [
    "\"__interrupt__\" in response"
   ]
  },
  {
   "cell_type": "markdown",
   "id": "bf8435af",
   "metadata": {},
   "source": [
    "## Reference Links\n",
    "\n",
    "**1. LangGraph create_react_agent API Reference**\n",
    "\n",
    "https://langchain-ai.github.io/langgraph/reference/agents/#langgraph.prebuilt.chat_agent_executor.create_react_agent\n",
    "\n",
    "→ Technical reference for the create_react_agent function, including parameters, return types, and implementation details."
   ]
  }
 ],
 "metadata": {
  "kernelspec": {
   "display_name": ".venv",
   "language": "python",
   "name": "python3"
  },
  "language_info": {
   "codemirror_mode": {
    "name": "ipython",
    "version": 3
   },
   "file_extension": ".py",
   "mimetype": "text/x-python",
   "name": "python",
   "nbconvert_exporter": "python",
   "pygments_lexer": "ipython3",
   "version": "3.11.11"
  }
 },
 "nbformat": 4,
 "nbformat_minor": 5
}
