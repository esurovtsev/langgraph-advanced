{
 "cells": [
  {
   "cell_type": "markdown",
   "id": "b834cb05",
   "metadata": {},
   "source": [
    "# Dynamically Selected Tools"
   ]
  },
  {
   "cell_type": "markdown",
   "id": "fa970534",
   "metadata": {},
   "source": [
    "## Load MCP Tools"
   ]
  },
  {
   "cell_type": "code",
   "execution_count": null,
   "id": "5d69ea11",
   "metadata": {},
   "outputs": [],
   "source": [
    "import json\n",
    "import os\n",
    "\n",
    "def load_mcp_servers(config_path):\n",
    "    \"\"\"\n",
    "    Load MCP server definitions from a JSON config file.\n",
    "    Expects a top-level 'mcpServers' dict in the config.\n",
    "    \"\"\"\n",
    "    if not os.path.exists(config_path):\n",
    "        raise FileNotFoundError(f\"Config file not found: {config_path}\")\n",
    "    with open(config_path, \"r\") as f:\n",
    "        config = json.load(f)\n",
    "    servers = config.get(\"mcpServers\", {})\n",
    "    # Optionally add default transports if missing\n",
    "    for name, server in servers.items():\n",
    "        if \"command\" in server and \"transport\" not in server:\n",
    "            server[\"transport\"] = \"stdio\"\n",
    "        if \"url\" in server and \"transport\" not in server:\n",
    "            server[\"transport\"] = \"streamable_http\"\n",
    "    return servers\n",
    "\n",
    "mcp_servers = load_mcp_servers(\"./mcp_config.json\")\n",
    "mcp_servers"
   ]
  },
  {
   "cell_type": "code",
   "execution_count": null,
   "id": "543f44f0",
   "metadata": {},
   "outputs": [],
   "source": [
    "from langchain_mcp_adapters.client import MultiServerMCPClient\n",
    "\n",
    "client = MultiServerMCPClient(mcp_servers)\n",
    "mcp_tools = await client.get_tools()\n",
    "\n",
    "print(f\"Loaded {len(mcp_tools)} tools.\\n\")\n",
    "print(f\"Example of a tool:\\n{mcp_tools[0]}\")"
   ]
  },
  {
   "cell_type": "markdown",
   "id": "715f9f84",
   "metadata": {},
   "source": [
    "## Single ReAct Agent with all Tools"
   ]
  },
  {
   "cell_type": "code",
   "execution_count": null,
   "id": "1cce7574",
   "metadata": {},
   "outputs": [],
   "source": [
    "\n",
    "from langgraph.prebuilt import create_react_agent\n",
    "from IPython.display import Image, display\n",
    "from tools import draw_mermaid_png\n",
    "\n",
    "GITHUB_AGENT_SYSTEM_MESSAGE = \"\"\"\n",
    "You are a GitHub Assistant that helps users manage their GitHub repositories and workflows.\n",
    "\n",
    "You can help with:\n",
    "- Repository management (create, fork, browse files)\n",
    "- Issues and pull requests (create, review, merge)\n",
    "- Code operations (search, commit, push changes)\n",
    "- GitHub Actions workflows (run, monitor, debug)\n",
    "- Notifications and alerts\n",
    "\n",
    "Use the appropriate GitHub tools based on user requests. \n",
    "For complex tasks, break them down into steps and explain what you're doing along the way.\n",
    "\n",
    "When a user needs help with GitHub, they should simply describe what they want to accomplish, \n",
    "and you'll guide them through the process using the available tools.\n",
    "\"\"\"\n",
    "\n",
    "github_agent = create_react_agent(\n",
    "    model=\"openai:gpt-4o-mini\",\n",
    "    tools=mcp_tools,\n",
    "    prompt=GITHUB_AGENT_SYSTEM_MESSAGE\n",
    ")\n",
    "\n",
    "draw_mermaid_png(github_agent)"
   ]
  },
  {
   "cell_type": "markdown",
   "id": "b0c2ffa0",
   "metadata": {},
   "source": [
    "## Reducing number of tools\n",
    "\n",
    "1) decide what tools can be usefull based on user's request\n",
    "\n",
    "2) provide model dynamically with reduced set of tools"
   ]
  },
  {
   "cell_type": "markdown",
   "id": "9383301e",
   "metadata": {},
   "source": [
    "### Reducing number of tools"
   ]
  },
  {
   "cell_type": "code",
   "execution_count": null,
   "id": "490db7fc",
   "metadata": {},
   "outputs": [],
   "source": [
    "from langchain.chat_models import init_chat_model\n",
    "from textwrap import dedent\n",
    "from pydantic import BaseModel, Field\n",
    "from typing import List\n",
    "\n",
    "model = init_chat_model(\"openai:gpt-4o-mini\", temperature=0)\n",
    "\n",
    "# Define structured schema for tool selection\n",
    "class ToolSelection(BaseModel):\n",
    "    tools: List[str] = Field(description=\"A list of tool names that are most relevant to the user's query\")\n",
    "\n",
    "# Initialize structured model\n",
    "structured_model = model.with_structured_output(ToolSelection)\n",
    "\n",
    "def select_tools_via_llm(query: str, all_tools: list, max_tools: int = 7) -> List[str]:\n",
    "    \"\"\"\n",
    "    Uses an LLM to select the most relevant tool names based on the user query.\n",
    "    Returns a list of tool names (strings).\n",
    "    \"\"\"\n",
    "    tools_text = \"\\n\".join(\n",
    "        f\"- {tool.name}: {tool.description}\" for tool in all_tools\n",
    "    )\n",
    "\n",
    "    prompt = dedent(f\"\"\"\n",
    "        You are a tool selector agent. Your job is to choose the most relevant tools based on the user's query.\n",
    "\n",
    "        User query:\n",
    "        \\\"\\\"\\\"{query}\\\"\\\"\\\"\n",
    "\n",
    "        Available tools:\n",
    "        {tools_text}\n",
    "\n",
    "        Return only the tools that are most relevant to the user query. Do not include tools that are unrelated or overly generic.\n",
    "        Select up to {max_tools} tools.\n",
    "    \"\"\")\n",
    "\n",
    "    return structured_model.invoke(prompt).tools"
   ]
  },
  {
   "cell_type": "code",
   "execution_count": null,
   "id": "8249cccb",
   "metadata": {},
   "outputs": [],
   "source": [
    "prompt = dedent(\"\"\"\n",
    "Can you check my account on GitHub and look at my recent work on the langgraph-advanced repo? \n",
    "I want to understand what I've been working on lately.\n",
    "So collect information about all my recent activity and provide a brief overview in natural human language \n",
    "about my recent work.\n",
    "\"\"\")\n",
    "\n",
    "select_tools_via_llm(prompt, mcp_tools)"
   ]
  },
  {
   "cell_type": "markdown",
   "id": "79acd7dd",
   "metadata": {},
   "source": [
    "### Runtime context"
   ]
  },
  {
   "cell_type": "code",
   "execution_count": null,
   "id": "3338cf89",
   "metadata": {},
   "outputs": [],
   "source": [
    "from dataclasses import dataclass\n",
    "from langgraph.runtime import Runtime\n",
    "\n",
    "@dataclass\n",
    "class CustomContext:\n",
    "    tools: List[str]  # tool names selected for this run\n",
    "\n",
    "\n",
    "def configure_model(state, runtime: Runtime[CustomContext]):\n",
    "    selected_tools = [\n",
    "        tool for tool in mcp_tools\n",
    "        if tool.name in runtime.context.tools\n",
    "    ]\n",
    "    return model.bind_tools(selected_tools)"
   ]
  },
  {
   "cell_type": "markdown",
   "id": "e09af3f5",
   "metadata": {},
   "source": [
    "### Create ReAct agent with dynamically selected Tools"
   ]
  },
  {
   "cell_type": "code",
   "execution_count": null,
   "id": "1f42920a",
   "metadata": {},
   "outputs": [],
   "source": [
    "\n",
    "from langgraph.prebuilt import create_react_agent\n",
    "from IPython.display import Image, display\n",
    "from tools import draw_mermaid_png\n",
    "\n",
    "GITHUB_AGENT_SYSTEM_MESSAGE = \"\"\"\n",
    "You are a GitHub Assistant that helps users manage their GitHub repositories and workflows.\n",
    "\n",
    "You can help with:\n",
    "- Repository management (create, fork, browse files)\n",
    "- Issues and pull requests (create, review, merge)\n",
    "- Code operations (search, commit, push changes)\n",
    "- GitHub Actions workflows (run, monitor, debug)\n",
    "- Notifications and alerts\n",
    "\n",
    "Use the appropriate GitHub tools based on user requests. \n",
    "For complex tasks, break them down into steps and explain what you're doing along the way.\n",
    "\n",
    "When a user needs help with GitHub, they should simply describe what they want to accomplish, \n",
    "and you'll guide them through the process using the available tools.\n",
    "\"\"\"\n",
    "\n",
    "github_agent = create_react_agent(\n",
    "    model=configure_model,\n",
    "    tools=mcp_tools,\n",
    "    prompt=GITHUB_AGENT_SYSTEM_MESSAGE\n",
    ")\n",
    "\n",
    "draw_mermaid_png(github_agent)"
   ]
  },
  {
   "cell_type": "markdown",
   "id": "5fd53fbf",
   "metadata": {},
   "source": [
    "### Testing"
   ]
  },
  {
   "cell_type": "code",
   "execution_count": null,
   "id": "667ad08c",
   "metadata": {},
   "outputs": [],
   "source": [
    "from langchain_core.messages import HumanMessage\n",
    "from textwrap import dedent\n",
    "\n",
    "user_query = dedent(\"\"\"\n",
    "Can you check my account on GitHub and look at my recent work on the langgraph-advanced repo? \n",
    "I want to understand what I've been working on lately.\n",
    "So collect information about all my recent activity and provide a brief overview in natural human language \n",
    "about my recent work.\n",
    "\"\"\")\n",
    "\n",
    "# Select relevant tools dynamically using LLM\n",
    "selected_tool_names = select_tools_via_llm(user_query, mcp_tools)\n",
    "\n",
    "# Prepare context with selected tools\n",
    "context = CustomContext(tools=selected_tool_names)\n",
    "\n",
    "# Run the agent graph with input and context\n",
    "result = await github_agent.ainvoke(\n",
    "    {\"messages\": [HumanMessage(content=user_query)]},\n",
    "    context=context\n",
    ")\n",
    "\n",
    "for message in result['messages']:\n",
    "    message.pretty_print()"
   ]
  },
  {
   "cell_type": "markdown",
   "id": "481d3813",
   "metadata": {},
   "source": [
    "## Reference Links\n",
    "\n",
    "**1. LangGraph Prebuilt ReAct Agent (create_react_agent)**\n",
    "\n",
    "https://langchain-ai.github.io/langgraph/reference/agents/#langgraph.prebuilt.chat_agent_executor.create_react_agent\n",
    "\n",
    "→ API reference for the create_react_agent function, covering static/dynamic model selection, prompt customization, memory, hooks, and human-in-the-loop features.\n",
    "\n",
    "**2. Dynamically Select Tools in LangGraph**\n",
    "\n",
    "https://langchain-ai.github.io/langgraph/how-tos/tool-calling/#dynamically-select-tools\n",
    "\n",
    "→ How-to guide for implementing dynamic tool selection in LangGraph agents, including runtime tool filtering, conditional tool availability, and context-aware tool routing."
   ]
  }
 ],
 "metadata": {
  "kernelspec": {
   "display_name": ".venv",
   "language": "python",
   "name": "python3"
  },
  "language_info": {
   "codemirror_mode": {
    "name": "ipython",
    "version": 3
   },
   "file_extension": ".py",
   "mimetype": "text/x-python",
   "name": "python",
   "nbconvert_exporter": "python",
   "pygments_lexer": "ipython3",
   "version": "3.11.11"
  }
 },
 "nbformat": 4,
 "nbformat_minor": 5
}
