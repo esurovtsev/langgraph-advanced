{
 "cells": [
  {
   "cell_type": "markdown",
   "id": "63ba086c",
   "metadata": {},
   "source": [
    "# Prebuilt Agents\n",
    "\n",
    "![Generic Agent Architecture](images/generic-agent-architecture.png)\n",
    "\n",
    "## ReAct (a generic agent architecture)\n",
    "\n",
    "- **act** - take an action\n",
    "- **observe** - grab the response from the action\n",
    "- **reason** - analyze the response and determine what to do next"
   ]
  },
  {
   "cell_type": "markdown",
   "id": "1d1ad70f",
   "metadata": {},
   "source": [
    "## Low Level APIs\n",
    "\n",
    "### define tools"
   ]
  },
  {
   "cell_type": "code",
   "execution_count": null,
   "id": "7fd2a4e8",
   "metadata": {},
   "outputs": [],
   "source": [
    "import requests\n",
    "import yfinance as yf\n",
    "from pprint import pformat\n",
    "\n",
    "def lookup_stock_symbol(company_name: str) -> str:\n",
    "    \"\"\"\n",
    "    Converts a company name to its stock symbol using a financial API.\n",
    "\n",
    "    Parameters:\n",
    "        company_name (str): The full company name (e.g., 'Tesla').\n",
    "\n",
    "    Returns:\n",
    "        str: The stock symbol (e.g., 'TSLA') or an error message.\n",
    "    \"\"\"\n",
    "    api_url = \"https://www.alphavantage.co/query\"\n",
    "    params = {\n",
    "        \"function\": \"SYMBOL_SEARCH\",\n",
    "        \"keywords\": company_name,\n",
    "        \"apikey\": \"your_alphavantage_api_key\"\n",
    "    }\n",
    "    \n",
    "    response = requests.get(api_url, params=params)\n",
    "    data = response.json()\n",
    "    \n",
    "    if \"bestMatches\" in data and data[\"bestMatches\"]:\n",
    "        return data[\"bestMatches\"][0][\"1. symbol\"]\n",
    "    else:\n",
    "        return f\"Symbol not found for {company_name}.\"\n",
    "\n",
    "\n",
    "def fetch_stock_data_raw(stock_symbol: str) -> dict:\n",
    "    \"\"\"\n",
    "    Fetches comprehensive stock data for a given symbol and returns it as a combined dictionary.\n",
    "\n",
    "    Parameters:\n",
    "        stock_symbol (str): The stock ticker symbol (e.g., 'TSLA').\n",
    "        period (str): The period to analyze (e.g., '1mo', '3mo', '1y').\n",
    "\n",
    "    Returns:\n",
    "        dict: A dictionary combining general stock info and historical market data.\n",
    "    \"\"\"\n",
    "    period = \"1mo\"\n",
    "    try:\n",
    "        stock = yf.Ticker(stock_symbol)\n",
    "\n",
    "        # Retrieve general stock info and historical market data\n",
    "        stock_info = stock.info  # Basic company and stock data\n",
    "        stock_history = stock.history(period=period).to_dict()  # Historical OHLCV data\n",
    "\n",
    "        # Combine both into a single dictionary\n",
    "        combined_data = {\n",
    "            \"stock_symbol\": stock_symbol,\n",
    "            \"info\": stock_info,\n",
    "            \"history\": stock_history\n",
    "        }\n",
    "\n",
    "        return pformat(combined_data)\n",
    "\n",
    "    except Exception as e:\n",
    "        return {\"error\": f\"Error fetching stock data for {stock_symbol}: {str(e)}\"}"
   ]
  },
  {
   "cell_type": "markdown",
   "id": "e0e0f3db",
   "metadata": {},
   "source": [
    "### Binding tools to the LLM"
   ]
  },
  {
   "cell_type": "code",
   "execution_count": null,
   "id": "befb03e1",
   "metadata": {},
   "outputs": [],
   "source": [
    "from langchain_core.tools import Tool\n",
    "from langchain_openai import ChatOpenAI\n",
    "\n",
    "# Create tool bindings with additional attributes\n",
    "lookup_stock = Tool.from_function(\n",
    "    func=lookup_stock_symbol,\n",
    "    name=\"lookup_stock_symbol\",\n",
    "    description=\"Converts a company name to its stock symbol using a financial API.\",\n",
    "    return_direct=False  # Return result to be processed by LLM\n",
    ")\n",
    "\n",
    "fetch_stock = Tool.from_function(\n",
    "    func=fetch_stock_data_raw,\n",
    "    name=\"fetch_stock_data_raw\",\n",
    "    description=\"Fetches comprehensive stock data including general info and historical market data for a given stock symbol.\",\n",
    "    return_direct=False\n",
    ")\n",
    "\n",
    "toolbox = [lookup_stock, fetch_stock]\n",
    "\n",
    "# OPENAI_API_KEY environment variable must be set\n",
    "simple_llm = ChatOpenAI(model=\"gpt-4o-mini\")\n",
    "llm_with_tools = simple_llm.bind_tools(toolbox)"
   ]
  },
  {
   "cell_type": "markdown",
   "id": "74d183fb",
   "metadata": {},
   "source": [
    "### Defining Agent's node"
   ]
  },
  {
   "cell_type": "code",
   "execution_count": null,
   "id": "2d6513c1",
   "metadata": {},
   "outputs": [],
   "source": [
    "from langchain_core.messages import HumanMessage, SystemMessage\n",
    "from langgraph.graph import MessagesState\n",
    "\n",
    "# System message\n",
    "assistant_system_message = SystemMessage(content=(\"\"\"\n",
    "You are a friendly, conversational financial assistant.\n",
    "\n",
    "Your role is to help people understand how companies are doing financially — even if they don’t know much about finance. You can explain things clearly, naturally, and in a relaxed tone, like a person chatting with a curious friend.\n",
    "\n",
    "You have access to tools that fetch financial data: stock prices, revenue, profit, analyst sentiment, etc. Use this data to understand the situation — but never overwhelm the user with too many numbers or technical terms.\n",
    "\n",
    "---\n",
    "\n",
    "### How to respond:\n",
    "\n",
    "- Your **first reply should always be short and natural**, like the beginning of a real conversation — no long summaries, no number tables, no formal tone.\n",
    "- Talk like a person. Say things like: “the stock is up a bit today,” “they’re still making money, but growth has slowed,” or “analysts seem cautious right now.”\n",
    "- **Avoid listing more than one or two numbers** unless the user explicitly asks for detailed data.\n",
    "- Never answer with a bullet list of metrics or a financial report format.\n",
    "- Focus on **what the data means**, not just what it is. Translate financial figures into plain English.\n",
    "- If the user wants more detail, you can go deeper — but only when they ask.\n",
    "\n",
    "---\n",
    "\n",
    "Your job is to make financial information feel easy, human, and open-ended — never robotic or overwhelming.\n",
    "\"\"\"))\n",
    "\n",
    "# Node\n",
    "def assistant(state: MessagesState):\n",
    "   return {\"messages\": [llm_with_tools.invoke([assistant_system_message] + state[\"messages\"])]}"
   ]
  },
  {
   "cell_type": "markdown",
   "id": "626c08d9",
   "metadata": {},
   "source": [
    "### Defining Graph"
   ]
  },
  {
   "cell_type": "code",
   "execution_count": null,
   "id": "33ebf9b9",
   "metadata": {},
   "outputs": [],
   "source": [
    "from langgraph.graph import START, StateGraph\n",
    "from langgraph.prebuilt import tools_condition\n",
    "from langgraph.prebuilt import ToolNode\n",
    "from IPython.display import Image, display\n",
    "\n",
    "# Graph\n",
    "builder = StateGraph(MessagesState)\n",
    "\n",
    "# Define nodes: these do the work\n",
    "builder.add_node(\"assistant\", assistant)\n",
    "builder.add_node(\"tools\", ToolNode(toolbox))\n",
    "\n",
    "# Define edges: these determine how the control flow moves\n",
    "builder.add_edge(START, \"assistant\")\n",
    "builder.add_conditional_edges(\n",
    "    \"assistant\",\n",
    "    # If the latest message (result) from assistant is a tool call -> tools_condition routes to tools\n",
    "    # If the latest message (result) from assistant is a not a tool call -> tools_condition routes to END\n",
    "    tools_condition,\n",
    ")\n",
    "builder.add_edge(\"tools\", \"assistant\")\n",
    "react_graph = builder.compile()\n",
    "\n",
    "# Show\n",
    "display(Image(react_graph.get_graph(xray=True).draw_mermaid_png()))"
   ]
  },
  {
   "cell_type": "code",
   "execution_count": null,
   "id": "f8fd078e",
   "metadata": {},
   "outputs": [],
   "source": [
    "messages = react_graph.invoke({\"messages\": [HumanMessage(content=\"What’s the current financial state of Tesla?\")]})\n",
    "for message in messages['messages']:\n",
    "    message.pretty_print()"
   ]
  },
  {
   "cell_type": "markdown",
   "id": "1f351abc",
   "metadata": {},
   "source": [
    "## Using high level API with Prebuilt Agents "
   ]
  },
  {
   "cell_type": "code",
   "execution_count": null,
   "id": "e9c343ce",
   "metadata": {},
   "outputs": [],
   "source": [
    "from langgraph.prebuilt import create_react_agent\n",
    "\n",
    "agent = create_react_agent(\n",
    "    model=simple_llm,\n",
    "    tools=[lookup_stock_symbol, fetch_stock_data_raw],\n",
    "    prompt=assistant_system_message\n",
    ")\n",
    "\n",
    "display(Image(agent.get_graph(xray=True).draw_mermaid_png()))"
   ]
  },
  {
   "cell_type": "code",
   "execution_count": null,
   "id": "18f98704",
   "metadata": {},
   "outputs": [],
   "source": [
    "messages = agent.invoke({\"messages\": [HumanMessage(content=\"What’s the current financial state of Tesla?\")]})\n",
    "for message in messages['messages']:\n",
    "    message.pretty_print()"
   ]
  },
  {
   "cell_type": "code",
   "execution_count": null,
   "id": "b4a926e0",
   "metadata": {},
   "outputs": [],
   "source": [
    "messages = agent.invoke({\"messages\": [HumanMessage(content=\"So, do you think this is a good idea to buy this stock?\")]})\n",
    "for message in messages['messages']:\n",
    "    message.pretty_print()"
   ]
  },
  {
   "cell_type": "code",
   "execution_count": null,
   "id": "7a9d8ff9",
   "metadata": {},
   "outputs": [],
   "source": [
    "from langgraph.prebuilt import create_react_agent\n",
    "from langgraph.checkpoint.memory import InMemorySaver\n",
    "\n",
    "agent_with_memory = create_react_agent(\n",
    "    model=simple_llm,\n",
    "    tools=[lookup_stock_symbol, fetch_stock_data_raw],\n",
    "    prompt=assistant_system_message,\n",
    "    checkpointer=InMemorySaver()\n",
    ")\n",
    "\n",
    "display(Image(agent_with_memory.get_graph(xray=True).draw_mermaid_png()))"
   ]
  },
  {
   "cell_type": "code",
   "execution_count": null,
   "id": "a991e342",
   "metadata": {},
   "outputs": [],
   "source": [
    "config = {\"configurable\": {\"thread_id\": \"1\"}}\n",
    "\n",
    "messages = agent_with_memory.invoke({\"messages\": [HumanMessage(content=\"What’s the current financial state of Tesla?\")]}, config)\n",
    "for message in messages['messages']:\n",
    "    message.pretty_print()"
   ]
  },
  {
   "cell_type": "code",
   "execution_count": null,
   "id": "43d2a025",
   "metadata": {},
   "outputs": [],
   "source": [
    "messages = agent_with_memory.invoke({\"messages\": [HumanMessage(content=\"So, do you think this is a good idea to buy this stock?\")]}, config)\n",
    "for message in messages['messages']:\n",
    "    message.pretty_print()"
   ]
  },
  {
   "cell_type": "markdown",
   "id": "292cdeba",
   "metadata": {},
   "source": [
    "## Visualize an agent graph\n",
    "\n",
    "https://langchain-ai.github.io/langgraph/agents/overview/#visualize-an-agent-graph"
   ]
  },
  {
   "cell_type": "markdown",
   "id": "00dd9acc",
   "metadata": {},
   "source": [
    "## Reference Links\n",
    "\n",
    "**1.\tLangGraph Agents: Official Overview**\n",
    "\n",
    "https://langchain-ai.github.io/langgraph/agents/overview/\n",
    "\n",
    "→ High-level introduction to LangGraph’s agent system, including use cases, architecture, and behavior.\n",
    "\n",
    "\n",
    "**2.\tLangGraph Agents: Prebuilt Agent Classes & Setup**\n",
    "\n",
    "https://langchain-ai.github.io/langgraph/agents/agents/\n",
    "\n",
    "→ Documentation on using prebuilt agent classes like AgentExecutorGraph, along with memory, tools, and config options.\n",
    "\n",
    "\n",
    "**3.\tLangGraph Agents: API Reference**\n",
    "\n",
    "https://langchain-ai.github.io/langgraph/reference/agents/\n",
    "\n",
    "→ Technical reference for the prebuilt agent API — class signatures, initialization parameters, and helper functions.\n",
    "\n"
   ]
  }
 ],
 "metadata": {
  "kernelspec": {
   "display_name": ".venv",
   "language": "python",
   "name": "python3"
  },
  "language_info": {
   "codemirror_mode": {
    "name": "ipython",
    "version": 3
   },
   "file_extension": ".py",
   "mimetype": "text/x-python",
   "name": "python",
   "nbconvert_exporter": "python",
   "pygments_lexer": "ipython3",
   "version": "3.11.11"
  }
 },
 "nbformat": 4,
 "nbformat_minor": 5
}
